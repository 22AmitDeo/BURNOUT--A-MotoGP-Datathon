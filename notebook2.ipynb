{
 "cells": [
  {
   "cell_type": "code",
   "execution_count": 22,
   "metadata": {},
   "outputs": [],
   "source": [
    "import pandas as pd\n",
    "from catboost import CatBoostRegressor, Pool\n",
    "from sklearn.metrics import mean_squared_error\n",
    "import numpy as np"
   ]
  },
  {
   "cell_type": "code",
   "execution_count": 2,
   "metadata": {},
   "outputs": [],
   "source": [
    "train = pd.read_csv(\"train.csv\")\n",
    "val = pd.read_csv(\"val.csv\")\n",
    "test = pd.read_csv(\"test.csv\")\n"
   ]
  },
  {
   "cell_type": "code",
   "execution_count": 3,
   "metadata": {},
   "outputs": [],
   "source": [
    "train = train.dropna(subset=[\"Lap_Time_Seconds\"])\n",
    "val = val.dropna(subset=[\"Lap_Time_Seconds\"])"
   ]
  },
  {
   "cell_type": "code",
   "execution_count": 4,
   "metadata": {},
   "outputs": [],
   "source": [
    "full = pd.concat([train, val, test], axis=0).reset_index(drop=True)"
   ]
  },
  {
   "cell_type": "code",
   "execution_count": 7,
   "metadata": {},
   "outputs": [],
   "source": [
    "categorical_cols = [\n",
    "    \"category_x\", \"Track_Condition\", \"Tire_Compound_Front\", \"Tire_Compound_Rear\", \"Session\",\n",
    "    \"weather\", \"track\", \"rider\", \"team\", \"bike\", \"shortname\",\n",
    "    \"circuit_name\", \"team_name\", \"bike_name\", \"Penalty\"\n",
    "]"
   ]
  },
  {
   "cell_type": "code",
   "execution_count": 8,
   "metadata": {},
   "outputs": [],
   "source": [
    "full[categorical_cols] = full[categorical_cols].fillna(\"Unknown\")\n",
    "full = full.fillna(-1)"
   ]
  },
  {
   "cell_type": "code",
   "execution_count": 9,
   "metadata": {},
   "outputs": [],
   "source": [
    "full[\"experience\"] = full[\"max_year\"] - full[\"min_year\"] + 1\n",
    "full[\"racing_age\"] = full[\"year_x\"] - full[\"min_year\"]\n",
    "full[\"win_rate\"] = full[\"wins\"] / (full[\"starts\"] + 1)\n",
    "full[\"points_per_finish\"] = full[\"points\"] / (full[\"finishes\"] + 1)\n",
    "full[\"podium_ratio\"] = full[\"podiums\"] / (full[\"with_points\"] + 1)\n",
    "full[\"temp_diff\"] = full[\"Track_Temperature_Celsius\"] - full[\"Ambient_Temperature_Celsius\"]\n",
    "full[\"humidity_temp_ratio\"] = full[\"Humidity_%\"] / (full[\"Ambient_Temperature_Celsius\"] + 1)"
   ]
  },
  {
   "cell_type": "code",
   "execution_count": 10,
   "metadata": {},
   "outputs": [],
   "source": [
    "X = full.drop(columns=[\"Lap_Time_Seconds\"], errors=\"ignore\")\n",
    "y = full[\"Lap_Time_Seconds\"] if \"Lap_Time_Seconds\" in full else None"
   ]
  },
  {
   "cell_type": "code",
   "execution_count": 11,
   "metadata": {},
   "outputs": [],
   "source": [
    "X_train = X.iloc[:len(train)]\n",
    "y_train = y.iloc[:len(train)]\n",
    "X_val = X.iloc[len(train):len(train) + len(val)]\n",
    "y_val = y.iloc[len(train):len(train) + len(val)]\n",
    "X_test = X.iloc[len(train) + len(val):]"
   ]
  },
  {
   "cell_type": "code",
   "execution_count": 13,
   "metadata": {},
   "outputs": [],
   "source": [
    "categorical_cols = X_train.select_dtypes(include=\"object\").columns.tolist()"
   ]
  },
  {
   "cell_type": "code",
   "execution_count": 14,
   "metadata": {},
   "outputs": [],
   "source": [
    "cat_feature_indices = [X_train.columns.get_loc(col) for col in categorical_cols]"
   ]
  },
  {
   "cell_type": "code",
   "execution_count": 15,
   "metadata": {},
   "outputs": [],
   "source": [
    "train_pool = Pool(X_train, y_train, cat_features=cat_feature_indices)\n",
    "val_pool = Pool(X_val, y_val, cat_features=cat_feature_indices)"
   ]
  },
  {
   "cell_type": "code",
   "execution_count": 16,
   "metadata": {},
   "outputs": [
    {
     "name": "stdout",
     "output_type": "stream",
     "text": [
      "0:\tlearn: 11.2936426\ttest: 11.2693010\tbest: 11.2693010 (0)\ttotal: 3.54s\tremaining: 1h 57m 59s\n",
      "100:\tlearn: 7.2321567\ttest: 7.0274787\tbest: 7.0274787 (100)\ttotal: 3m 58s\tremaining: 1h 14m 41s\n",
      "200:\tlearn: 6.9796490\ttest: 6.7693541\tbest: 6.7693541 (200)\ttotal: 9m 18s\tremaining: 1h 23m 20s\n",
      "300:\tlearn: 6.7808121\ttest: 6.5663891\tbest: 6.5663891 (300)\ttotal: 14m 36s\tremaining: 1h 22m 29s\n",
      "400:\tlearn: 6.5622207\ttest: 6.3390866\tbest: 6.3390866 (400)\ttotal: 19m 42s\tremaining: 1h 18m 33s\n",
      "500:\tlearn: 6.4131191\ttest: 6.1857935\tbest: 6.1857935 (500)\ttotal: 24m 44s\tremaining: 1h 14m 1s\n",
      "600:\tlearn: 6.2604344\ttest: 6.0282450\tbest: 6.0282450 (600)\ttotal: 30m 38s\tremaining: 1h 11m 20s\n",
      "700:\tlearn: 6.1407891\ttest: 5.9043278\tbest: 5.9043278 (700)\ttotal: 36m 52s\tremaining: 1h 8m 19s\n",
      "800:\tlearn: 6.0295871\ttest: 5.7889051\tbest: 5.7889051 (800)\ttotal: 42m 14s\tremaining: 1h 3m 13s\n",
      "900:\tlearn: 5.9222440\ttest: 5.6783944\tbest: 5.6783944 (900)\ttotal: 47m 15s\tremaining: 57m 38s\n",
      "1000:\tlearn: 5.8287999\ttest: 5.5820836\tbest: 5.5820836 (1000)\ttotal: 51m 45s\tremaining: 51m 39s\n",
      "1100:\tlearn: 5.7463609\ttest: 5.4975118\tbest: 5.4975118 (1100)\ttotal: 56m 16s\tremaining: 45m 56s\n",
      "1200:\tlearn: 5.6533457\ttest: 5.4017524\tbest: 5.4017524 (1200)\ttotal: 1h 43s\tremaining: 40m 23s\n",
      "1300:\tlearn: 5.5799657\ttest: 5.3264772\tbest: 5.3264772 (1300)\ttotal: 1h 5m 4s\tremaining: 34m 57s\n",
      "1400:\tlearn: 5.5033025\ttest: 5.2475425\tbest: 5.2475425 (1400)\ttotal: 1h 9m 31s\tremaining: 29m 43s\n",
      "1500:\tlearn: 5.4307379\ttest: 5.1719781\tbest: 5.1719781 (1500)\ttotal: 1h 13m 54s\tremaining: 24m 34s\n",
      "1600:\tlearn: 5.3655278\ttest: 5.1044363\tbest: 5.1044363 (1600)\ttotal: 1h 18m 21s\tremaining: 19m 31s\n",
      "1700:\tlearn: 5.3004363\ttest: 5.0362887\tbest: 5.0362887 (1700)\ttotal: 1h 22m 57s\tremaining: 14m 34s\n",
      "1800:\tlearn: 5.2359287\ttest: 4.9688807\tbest: 4.9688807 (1800)\ttotal: 1h 27m 32s\tremaining: 9m 40s\n",
      "1900:\tlearn: 5.1772439\ttest: 4.9078989\tbest: 4.9078989 (1900)\ttotal: 1h 32m 27s\tremaining: 4m 48s\n",
      "1999:\tlearn: 5.1166788\ttest: 4.8441142\tbest: 4.8441142 (1999)\ttotal: 1h 37m 10s\tremaining: 0us\n",
      "\n",
      "bestTest = 4.844114158\n",
      "bestIteration = 1999\n",
      "\n"
     ]
    },
    {
     "data": {
      "text/plain": [
       "<catboost.core.CatBoostRegressor at 0x2549d1c6420>"
      ]
     },
     "execution_count": 16,
     "metadata": {},
     "output_type": "execute_result"
    }
   ],
   "source": [
    "model = CatBoostRegressor(\n",
    "    iterations=2000,\n",
    "    learning_rate=0.05,\n",
    "    depth=8,\n",
    "    loss_function='RMSE',\n",
    "    eval_metric='RMSE',\n",
    "    cat_features=categorical_cols,  # if you've passed column *names* here, switch to indices in Pool\n",
    "    early_stopping_rounds=100,\n",
    "    verbose=100\n",
    ")\n",
    "\n",
    "model.fit(train_pool, eval_set=val_pool)"
   ]
  },
  {
   "cell_type": "code",
   "execution_count": 17,
   "metadata": {},
   "outputs": [],
   "source": [
    "pred_val = model.predict(X_val)\n",
    "pred_test = model.predict(X_test)"
   ]
  },
  {
   "cell_type": "code",
   "execution_count": 18,
   "metadata": {},
   "outputs": [],
   "source": [
    "# Save to CSV\n",
    "submission_test = pd.DataFrame({\n",
    "    \"Unique ID\": test[\"Unique ID\"].values,\n",
    "    \"Lap_Time_Seconds\": pred_test\n",
    "})\n",
    "\n",
    "submission_test.to_csv(\"submission_test.csv\", index=False)\n"
   ]
  },
  {
   "cell_type": "code",
   "execution_count": 24,
   "metadata": {},
   "outputs": [],
   "source": [
    "final_pred = 0.9 * pred_test + 0.1 * np.mean(y_train)\n",
    "\n",
    "# Create submission DataFrame with 'Unique ID' from test set\n",
    "submission = pd.DataFrame({\n",
    "    \"Unique ID\": test[\"Unique ID\"],\n",
    "    \"Lap_Time_Seconds\": final_pred\n",
    "})\n",
    "\n",
    "# Save to CSV\n",
    "submission.to_csv(\"submission_test.csv\", index=False)"
   ]
  }
 ],
 "metadata": {
  "kernelspec": {
   "display_name": "Python 3",
   "language": "python",
   "name": "python3"
  },
  "language_info": {
   "codemirror_mode": {
    "name": "ipython",
    "version": 3
   },
   "file_extension": ".py",
   "mimetype": "text/x-python",
   "name": "python",
   "nbconvert_exporter": "python",
   "pygments_lexer": "ipython3",
   "version": "3.12.6"
  }
 },
 "nbformat": 4,
 "nbformat_minor": 2
}
